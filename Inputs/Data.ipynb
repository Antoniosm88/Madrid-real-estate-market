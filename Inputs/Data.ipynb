{
 "cells": [
  {
   "cell_type": "code",
   "execution_count": 25,
   "metadata": {},
   "outputs": [],
   "source": [
    "import pandas as pd\n",
    "import numpy as np\n",
    "import matplotlib.pyplot as plt\n",
    "import requests as req"
   ]
  },
  {
   "cell_type": "code",
   "execution_count": 34,
   "metadata": {},
   "outputs": [],
   "source": [
    "def extraerdatos():\n",
    "    df = pd.read_csv('./appstore_games.csv', encoding='latin')\n",
    "    df.columns = df.columns.to_series().apply(lambda x: x.strip())\n",
    "    df.isnull().sum().sort_values().head()/17007\n",
    "    df_reducido=df[[\"Name\",\"User Rating Count\",\"Price\",\"Languages\",\"Primary Genre\",'Developer',]]\n",
    "    return df_reducido\n",
    "\n",
    "\n"
   ]
  },
  {
   "cell_type": "code",
   "execution_count": 40,
   "metadata": {},
   "outputs": [],
   "source": [
    "def scraping():\n",
    "    url = 'https://instabug.com/blog/mobile-game-publishers/'\n",
    "    html = requests.get(url).content\n",
    "    bs = BeautifulSoup(html, 'lxml')\n",
    "    searching = bs.find_all('h3', class_= '')\n",
    "    developer_list=[e.text.replace('\\n','').replace('  ', '') for e in searching]\n",
    "    top_developer = pd.DataFrame(developer_list,columns = ['top_developer'],)\n",
    "    return top_developer"
   ]
  },
  {
   "cell_type": "code",
   "execution_count": null,
   "metadata": {},
   "outputs": [],
   "source": []
  },
  {
   "cell_type": "markdown",
   "metadata": {},
   "source": [
    "Intentando encontrar algúna correlación entre las variables para poder sacar más información al Df. "
   ]
  },
  {
   "cell_type": "code",
   "execution_count": null,
   "metadata": {},
   "outputs": [],
   "source": [
    "datos"
   ]
  },
  {
   "cell_type": "code",
   "execution_count": null,
   "metadata": {},
   "outputs": [],
   "source": []
  },
  {
   "cell_type": "code",
   "execution_count": null,
   "metadata": {},
   "outputs": [],
   "source": []
  },
  {
   "cell_type": "code",
   "execution_count": null,
   "metadata": {},
   "outputs": [],
   "source": []
  },
  {
   "cell_type": "code",
   "execution_count": null,
   "metadata": {
    "scrolled": true
   },
   "outputs": [],
   "source": []
  },
  {
   "cell_type": "code",
   "execution_count": null,
   "metadata": {},
   "outputs": [],
   "source": []
  }
 ],
 "metadata": {
  "kernelspec": {
   "display_name": "Python 3",
   "language": "python",
   "name": "python3"
  },
  "language_info": {
   "codemirror_mode": {
    "name": "ipython",
    "version": 3
   },
   "file_extension": ".py",
   "mimetype": "text/x-python",
   "name": "python",
   "nbconvert_exporter": "python",
   "pygments_lexer": "ipython3",
   "version": "3.6.9"
  }
 },
 "nbformat": 4,
 "nbformat_minor": 4
}
